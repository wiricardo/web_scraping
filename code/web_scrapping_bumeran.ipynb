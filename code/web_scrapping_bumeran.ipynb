{
 "cells": [
  {
   "cell_type": "markdown",
   "id": "d39943a0",
   "metadata": {},
   "source": [
    "# 1. Calling Libraries"
   ]
  },
  {
   "cell_type": "code",
   "execution_count": 87,
   "id": "fa2cbef4",
   "metadata": {},
   "outputs": [
    {
     "data": {
      "text/plain": [
       "'from selenium.webdriver.support import expected_conditions as EC\\nfrom selenium.webdriver.support.ui import WebDriverWait\\nfrom selenium.webdriver.common.keys import Keys'"
      ]
     },
     "execution_count": 87,
     "metadata": {},
     "output_type": "execute_result"
    }
   ],
   "source": [
    "from selenium import webdriver\n",
    "import re\n",
    "import time \n",
    "from selenium.webdriver.common.by import By\n",
    "\"\"\"from selenium.webdriver.support import expected_conditions as EC\n",
    "from selenium.webdriver.support.ui import WebDriverWait\n",
    "from selenium.webdriver.common.keys import Keys\"\"\""
   ]
  },
  {
   "cell_type": "markdown",
   "id": "af414df4",
   "metadata": {},
   "source": [
    "# 2. Setting the Driver"
   ]
  },
  {
   "cell_type": "code",
   "execution_count": 88,
   "id": "a72a07bf",
   "metadata": {},
   "outputs": [],
   "source": [
    "driver = webdriver.Chrome()\n",
    "url = \"https://www.bumeran.com.pe/empleos.html\"\n",
    "driver.get(url)\n",
    "time.sleep(10)\n",
    "driver.maximize_window()"
   ]
  },
  {
   "cell_type": "code",
   "execution_count": null,
   "id": "b2dbee84",
   "metadata": {},
   "outputs": [],
   "source": [
    "\"\"\"wait = WebDriverWait(driver, 10)\n",
    "\n",
    "# 1) Click en el control de React-Select\n",
    "control = wait.until(EC.element_to_be_clickable((By.CSS_SELECTOR, \".select__control\")))\n",
    "control.click()\n",
    "\n",
    "# 2) Esperar el input real\n",
    "input_rs = wait.until(EC.visibility_of_element_located(\n",
    "    (By.CSS_SELECTOR, \"input[id^='react-select-'][id$='-input']\")\n",
    "))\n",
    "\n",
    "# 3) Asegurarte de borrar lo que haya antes: Ctrl+A + Delete\n",
    "input_rs.send_keys(Keys.CONTROL, \"a\")\n",
    "input_rs.send_keys(Keys.DELETE)\n",
    "\n",
    "# 4) Ahora sí escribir el texto\n",
    "input_rs.send_keys(\"Data Scientist\")\n",
    "\n",
    "# 5) Confirmar con Enter (o elegir opción del menú)\n",
    "input_rs.send_keys(Keys.ENTER)\"\"\""
   ]
  },
  {
   "cell_type": "markdown",
   "id": "e660c4f2",
   "metadata": {},
   "source": [
    "# 3. Setting filters"
   ]
  },
  {
   "cell_type": "markdown",
   "id": "39e75e5e",
   "metadata": {},
   "source": [
    "### Date filter"
   ]
  },
  {
   "cell_type": "code",
   "execution_count": 89,
   "id": "a1acaa73",
   "metadata": {},
   "outputs": [],
   "source": [
    "\n",
    "date = driver.find_element(By.XPATH, '/html/body/div[1]/div/div[2]/div[1]/div/div[2]/div[1]/div[2]/div/div[1]/button[1]')\n",
    "date.click()\n",
    "\n",
    "time.sleep(1)\n",
    "\n",
    "date_1 = driver.find_element(By.XPATH, '/html/body/div[1]/div/div[2]/div[1]/div/div[2]/div[1]/div[2]/div/div[2]/div/div/button[8]')\n",
    "date_1.click()"
   ]
  },
  {
   "cell_type": "markdown",
   "id": "83f9d681",
   "metadata": {},
   "source": [
    "### Area filter"
   ]
  },
  {
   "cell_type": "code",
   "execution_count": 90,
   "id": "83eea2fb",
   "metadata": {},
   "outputs": [],
   "source": [
    "area = driver.find_element( By.XPATH, '/html/body/div[1]/div/div[2]/div[1]/div/div[2]/div[1]/div[2]/div/div[1]/button[1]' )\n",
    "area.click()\n",
    "\n",
    "time.sleep(1)\n",
    "\n",
    "area_1 = driver.find_element( By.XPATH, '/html/body/div[1]/div/div[2]/div[1]/div/div[2]/div[1]/div[2]/div/div[2]/div/div/button[3]' )\n",
    "area_1.click()"
   ]
  },
  {
   "cell_type": "markdown",
   "id": "441a2e2f",
   "metadata": {},
   "source": [
    "### Sub area filter"
   ]
  },
  {
   "cell_type": "code",
   "execution_count": 91,
   "id": "69ea2713",
   "metadata": {},
   "outputs": [],
   "source": [
    "sub_area = driver.find_element ( By.XPATH, '/html/body/div[1]/div/div[2]/div[1]/div/div[2]/div[1]/div[2]/div/div[1]/button[1]' )\n",
    "sub_area.click()\n",
    "\n",
    "time.sleep(1)\n",
    "\n",
    "sub_area_1 = driver.find_element ( By.XPATH, '/html/body/div[1]/div/div[2]/div[1]/div/div[2]/div[1]/div[2]/div/div[2]/div/div/button[2]' )\n",
    "sub_area_1.click()"
   ]
  },
  {
   "cell_type": "markdown",
   "id": "d74d7b46",
   "metadata": {},
   "source": [
    "### Region"
   ]
  },
  {
   "cell_type": "code",
   "execution_count": 92,
   "id": "1dba7235",
   "metadata": {},
   "outputs": [],
   "source": [
    "region = driver.find_element ( By.XPATH, '/html/body/div[1]/div/div[2]/div[1]/div/div[2]/div[1]/div[2]/div/div[1]/button[1]/div' )\n",
    "region.click()\n",
    "\n",
    "time.sleep(1)\n",
    "\n",
    "region_1 = driver.find_element ( By.XPATH, '/html/body/div[1]/div/div[2]/div[1]/div/div[2]/div[1]/div[2]/div/div[2]/div/div/button[1]' )\n",
    "region_1.click()"
   ]
  },
  {
   "cell_type": "markdown",
   "id": "cecd7039",
   "metadata": {},
   "source": [
    "### Work schedule"
   ]
  },
  {
   "cell_type": "code",
   "execution_count": 93,
   "id": "eb7fdd39",
   "metadata": {},
   "outputs": [],
   "source": [
    "ws = driver.find_element ( By.XPATH, '/html/body/div[1]/div/div[2]/div[1]/div/div[2]/div[1]/div[2]/div/div[1]/button[4]/div')\n",
    "ws.click()\n",
    "\n",
    "time.sleep(1)\n",
    "\n",
    "ws_1 = driver.find_element ( By.XPATH, '/html/body/div[1]/div/div[2]/div[1]/div/div[2]/div[1]/div[2]/div/div[2]/div/div/button[1]' )\n",
    "ws_1.click()\n"
   ]
  },
  {
   "cell_type": "markdown",
   "id": "252e6aa9",
   "metadata": {},
   "source": [
    "# 4. Scrapping"
   ]
  },
  {
   "cell_type": "markdown",
   "id": "f8eb096b",
   "metadata": {},
   "source": [
    "### Getting Url's"
   ]
  },
  {
   "cell_type": "code",
   "execution_count": 146,
   "id": "b61f26de",
   "metadata": {},
   "outputs": [],
   "source": [
    "job_links = driver.find_elements(By.CSS_SELECTOR, \"#listado-avisos a.sc-ljUfdc.ldTLfe\")\n",
    "urls = [link.get_attribute(\"href\") for link in job_links]"
   ]
  },
  {
   "cell_type": "code",
   "execution_count": 148,
   "id": "c705ca7d",
   "metadata": {},
   "outputs": [
    {
     "name": "stdout",
     "output_type": "stream",
     "text": [
      "Found: 20 avisos\n",
      "https://www.bumeran.com.pe/empleos/programador-frontend-senior-sonda-del-peru-s.a.-1117973000.html\n",
      "https://www.bumeran.com.pe/empleos/analista-programador-java-1117972678.html\n",
      "https://www.bumeran.com.pe/empleos/trainee-programador-jr-building-software-1117968407.html\n",
      "https://www.bumeran.com.pe/empleos/analista-programador-sede-ate-bumeran-selecta-1117969140.html\n",
      "https://www.bumeran.com.pe/empleos/desarrollador-full-stack-node.js-c-java-angularjs-ibr-peru-s.a.-1117967655.html\n",
      "https://www.bumeran.com.pe/empleos/analista-programador-java-entelgy-1117975157.html\n",
      "https://www.bumeran.com.pe/empleos/analista-programador-.net-%7C-visual-basic-entelgy-1117975151.html\n",
      "https://www.bumeran.com.pe/empleos/analista-desarrollador-java-manpowergroup-peru-1117974662.html\n",
      "https://www.bumeran.com.pe/empleos/desarrollador-backend-nodejs-aws-indra-peru-1117974651.html\n",
      "https://www.bumeran.com.pe/empleos/analista-de-programador-derrama-magisterial-1117974631.html\n",
      "https://www.bumeran.com.pe/empleos/desarrollador-full-stack-java-aws-react-native-software-enterprise-services-s.a.c.-1117974521.html\n",
      "https://www.bumeran.com.pe/empleos/programador-bms-indra-peru-1117974062.html\n",
      "https://www.bumeran.com.pe/empleos/desarrollador-fullstack-lenguaje-go-y-react-native-software-enterprise-services-s.a.c.-1117949402.html\n",
      "https://www.bumeran.com.pe/empleos/desarrollador-mobile-react-native-fractal-soluciones-it-1117974334.html\n",
      "https://www.bumeran.com.pe/empleos/desarrollador-frontend-senior-fractal-soluciones-it-1117974205.html\n",
      "https://www.bumeran.com.pe/empleos/desarrollador-.net-senior-fractal-soluciones-it-1117973977.html\n",
      "https://www.bumeran.com.pe/empleos/programador-ologgi-s.a.c-1117973857.html\n",
      "https://www.bumeran.com.pe/empleos/programador-full-stack-c-exp-en-ia-valtx-1117973381.html\n",
      "https://www.bumeran.com.pe/empleos/programador-bms-automizador-indra-peru-1117973373.html\n",
      "https://www.bumeran.com.pe/empleos/programador-bms-indra-peru-1117973363.html\n"
     ]
    }
   ],
   "source": [
    "print(\"Found:\", len(urls), \"avisos\")\n",
    "for i in urls:\n",
    "    print(i)"
   ]
  },
  {
   "cell_type": "code",
   "execution_count": 179,
   "id": "3143ce39",
   "metadata": {},
   "outputs": [],
   "source": [
    "job_pages = driver.find_elements(By.CSS_SELECTOR, \"a.sc-dHaUqb\")\n",
    "urls_pages = [link.get_attribute(\"href\") for link in job_pages]"
   ]
  },
  {
   "cell_type": "code",
   "execution_count": 180,
   "id": "49856198",
   "metadata": {},
   "outputs": [
    {
     "data": {
      "text/plain": [
       "['https://www.bumeran.com.pe/en-lima/empleos-area-tecnologia-sistemas-y-telecomunicaciones-subarea-programacion-full-time-publicacion-menor-a-15-dias.html',\n",
       " 'https://www.bumeran.com.pe/en-lima/empleos-area-tecnologia-sistemas-y-telecomunicaciones-subarea-programacion-full-time-publicacion-menor-a-15-dias.html?page=2',\n",
       " 'https://www.bumeran.com.pe/en-lima/empleos-area-tecnologia-sistemas-y-telecomunicaciones-subarea-programacion-full-time-publicacion-menor-a-15-dias.html?page=3',\n",
       " 'https://www.bumeran.com.pe/en-lima/empleos-area-tecnologia-sistemas-y-telecomunicaciones-subarea-programacion-full-time-publicacion-menor-a-15-dias.html?page=4',\n",
       " 'https://www.bumeran.com.pe/en-lima/empleos-area-tecnologia-sistemas-y-telecomunicaciones-subarea-programacion-full-time-publicacion-menor-a-15-dias.html?page=5']"
      ]
     },
     "execution_count": 180,
     "metadata": {},
     "output_type": "execute_result"
    }
   ],
   "source": [
    "urls_pages"
   ]
  },
  {
   "cell_type": "code",
   "execution_count": 164,
   "id": "19c5cad4",
   "metadata": {},
   "outputs": [
    {
     "name": "stdout",
     "output_type": "stream",
     "text": [
      "Found: 0 pages\n"
     ]
    }
   ],
   "source": [
    "print(\"Found:\", len(urls_pages), \"pages\")\n",
    "for i in urls_pages:\n",
    "    print(i)"
   ]
  },
  {
   "cell_type": "code",
   "execution_count": 144,
   "id": "5f698fc4",
   "metadata": {},
   "outputs": [
    {
     "data": {
      "text/plain": [
       "[<selenium.webdriver.remote.webelement.WebElement (session=\"aa1c008d5d40949895fa4f4011cdede9\", element=\"f.B9A12C77951A9C6419962575F877D190.d.7F7EE26EFD371331364486CBD39262E2.e.72\")>]"
      ]
     },
     "execution_count": 144,
     "metadata": {},
     "output_type": "execute_result"
    }
   ],
   "source": [
    "red_buttons = driver.find_elements( By.ID, 'listado-avisos')\n",
    "red_buttons"
   ]
  },
  {
   "cell_type": "code",
   "execution_count": 139,
   "id": "cbb7007d",
   "metadata": {},
   "outputs": [
    {
     "name": "stdout",
     "output_type": "stream",
     "text": [
      "91 empleos para Programación Full-time en Lima\n",
      "Ordenar por:\n",
      "Relevantes\n",
      "Recientes\n",
      "Publicado hace 4 días\n",
      "Programador Frontend Senior\n",
      "SONDA DEL PERÚ S.A.\n",
      "Vive la experiencia SONDA¡Aquí transformas tu carrera!¿Por qué ser parte de SONDA?Porque al igual que tú, amamos lo que hacemos, tenemos pasión por la innovación y estamos convencidos de que a través del conocimiento y de la tecnología no solo vamos a transformar los negocios de nuestros clientes, sino también el futuro.En SONDA vivirás una experiencia de trabajo con diversas oportunidades de desarrollo personal y profesional. Un excelente lugar para aprender y contribuir a mejorar la calidad de vida de las personas por medio de la tecnología.Buscamos a un/a Desarrollador Frontend Senior que quiera aprender y transformar su carrera, con el siguiente perfil:Lo que harás: Participarás en el desarrollo de aplicaciones Frontend de alto impacto. Colaborarás en arquitecturas basadas en microservicios y tecnologías modernas. Formarás parte de un equipo multidisciplinario que impulsa la transformación digital.Lo que buscamos en ti: Titulado en Ingeniería de Sistemas, Informática o carreras afines; o técnico titulado en Informática o Sistemas o Computación o carreras afines a las Tecnologías de la Información. Egresado o Titulado de maestría relacionado a tecnologías de la información. Experiencia comprobada de 7 años como Desarrollador Frontend y desarrollo de software. Experiencia con microservicios. Curso o Taller en HTML5 O Java con Sprint o Hybernete o curso de Angular.¿Qué puedes esperar de nosotros? Desarrollo profesional y evolución constante de tus habilidades, siempre según tus intereses. Un ambiente colaborativo, diverso e innovador, que fomenta el trabajo en equipo.¿Qué ofrecemos? SONDA Academy, una plataforma educativa de aprendizaje constante que busca potenciar al máximo tu desarrollo profesional. SONDA Wellness, un programa que busca apoyarte en el balance de tu vida personal y profesional, promoviendo una serie de iniciativas enfocadas en tu salud física, mental y social. EPS al 100% Utilidades Bono de alimentación ¡Y mucho más! Diversidad +Inclusión = Innovación y colaboraciónEn SONDA estamos comprometidos con la diversidad. Fomentamos un ambiente inclusivo que garantice que los talentos puedan trabajar en un entorno positivo que los invite a desarrollar su carrera profesional en igualdad de oportunidades.Porque sabemos que un ambiente diverso es un elemento fundamental para impulsar la innovación, buscamos candidatos en función de su cualificación profesional, independientemente de su raza, color de piel, religión, edad, sexo, orientación sexual, identidad de género, nacionalidad o discapacidad.¡Sé parte de nuestro equipo!\n",
      "Múltiples vacantes\n",
      "Lima, Lima\n",
      "Remoto\n",
      "Publicado hace 4 días\n",
      "Analista Programador Java\n",
      "Confidencial\n",
      "Analista Programador JavaResumen del PuestoEstamos buscando un Analista Programador Java con experiencia para unirse a nuestro equipo. El candidato ideal tendrá un sólido conocimiento de Java y experiencia en el desarrollo de aplicaciones. Buscamos una persona con disponibilidad para trabajar y colaborar en proyectos desafiantes.Responsabilidades Diseñar, desarrollar y mantener aplicaciones utilizando Java. Analizar los requisitos del sistema y diseñar soluciones eficientes. Colaborar con otros desarrolladores y equipos para entregar productos de alta calidad. Realizar pruebas y depuración de aplicaciones. Documentar el código y los procesos de desarrollo.Requisitos Título en Ciencias de la Computación o campo relacionado. Experiencia demostrable en programación Java. Conocimiento de frameworks y herramientas de desarrollo Java. Habilidad para trabajar en equipo y comunicarse eficazmente. Disponibilidad para trabajar.\n",
      "Postulación rápida\n",
      "Lima, Lima\n",
      "Presencial\n",
      "Actualizado hace 3 días\n",
      "Trainee Programador Jr\n",
      "BUILDING SOFTWARE\n",
      "Perfil de Desarrollador/ Programador JuniorRequisitos: Carreras universitarias sistemas a fines. (Egresado - Bachiller) Programación en Java, .NET u otros. Alta capacidad analítica Alto grado de manejo de algoritmos Disponibilidad de trabajo presencialBeneficios Línea de carrera Capacitaciones EPS al 100% Trabajo bajo planilla\n",
      "Múltiples vacantes\n",
      "Miraflores, Lima\n",
      "Presencial\n",
      "Publicado hace 6 días\n",
      "Analista Programador - Sede ATE\n",
      "BUMERAN SELECTA\n",
      "4.5\n",
      "¡Buscamos a nuestro próximo/a Analista Programador!¿Te apasiona el desarrollo web y quieres crecer en un equipo innovador? ¡Esta oportunidad es para ti! ✅ Lo que harás:· Analizar, diseñar e implementar aplicaciones web alineadas a las necesidades del negocio.· Documentar de forma clara las soluciones implementadas.· Trabajar en equipo con otros programadores para desplegar y respaldar código.· Detectar y resolver errores en aplicaciones existentes. · Aportar ideas a iniciativas de mejora continua del área TI. ✅ Lo que buscamos:· Egresado/a o bachiller en Ingeniería de Sistemas, Informática, Software o afines.· Experiencia mínima de 2 años en desarrollo web full stack.· Dominio de Python y React.· Manejo de bases de datos relacionales: SQL Server, MySQL u otros. ✅ Lo que ofrecemos:· Ingreso a planilla desde el primer día (todos los beneficios de ley).· EPS de libre afiliación.· Capacitaciones constantes para que sigas creciendo.\n",
      "Ate, Lima\n",
      "Presencial\n",
      "Actualizado hace 4 días\n",
      "Desarrollador Full Stack Node.js, C#, Java, AngularJS\n",
      "IBR PERU S.A.\n",
      "Puesto: Desarrollador Full Stack Senior📍 Modalidad de trabajo: Híbrido📍 Sede: SurcoRequisitos: Educación mínima: Ingeniería de Sistemas, Desarrollo de Software o carreras afines Experiencia: mínimo 5 años en desarrollo de software Conocimientos sólidos en: Bases de datos: PostgreSQL, MySQL, SQL Lenguajes y frameworks: Node.js, C#, Java, AngularJS Arquitectura: MicroserviciosCompetencias valoradas: Capacidad de análisis y resolución de problemas Trabajo en equipo y comunicación efectiva Proactividad y orientación a resultadosOfrecemos: Participación en proyectos desafiantes e innovadores Ambiente colaborativo y en constante aprendizaje Plan de desarrollo profesional\n",
      "Múltiples vacantes\n",
      "Lima, Lima\n",
      "Híbrido\n",
      "Publicado ayer\n",
      "Analista Programador JAVA\n",
      "Entelgy\n",
      "2.0\n",
      "💡 DÉJANOS CONTARTE LO QUE NOS HACE GENUINE 💙Buscamos profesionales que quieran reinventarse cada día 🔄, que lleven los retos en el ADN 🧬 y que sientan una pasión genuina por la tecnología 💻✨.Eso es lo que nos hace únicos, auténticos y diferentes 🚀.¿QUÉ ESTAMOS BUSCANDO?Estamos en la búsqueda de un Desarrollador Java especializado en el sector financiero para desarrollar y mantener aplicaciones críticas bancarias.Funciones: Desarrollar microservicios en Java 8/11/17/21 con Spring Framework y Spring Boot Implementar integraciones con proveedores SaaS mediante APIs RESTful y buenas prácticas Diseñar arquitecturas siguiendo patrones DDD, TDD y Arquitectura Hexagonal Gestionar APIs utilizando Apigee y buses de servicio como Jboss Fuse Aplicar desarrollo seguro con SonarQube, OAuth2.0 y ciclo de desarrollo seguro Colaborar en metodologías ágiles y aplicar mejores prácticas de desarrollo de softwareRequisitos: 3 años mínimos en sistema financiero o cargos de similar responsabilidad Experiencia sólida en Java 8/11/17/21 con manejo avanzado de Spring Framework, Spring Boot y Quarkus para desarrollo de aplicaciones empresariales. Conocimiento de Go será valorado como plus adicional. Experiencia práctica implementando microservicios y arquitecturas distribuidas, aplicando patrones DDD, TDD y Arquitectura Hexagonal, junto con patrones de diseño como Clean Code, Singleton, Builder y Proxy. Experiencia desarrollando integraciones con proveedores SaaS mediante APIs RESTful siguiendo buenas prácticas, manejo de API Management con Apigee y conocimiento de buses de servicio como Jboss Fuse. Conocimiento de servidores de aplicaciones como Apache Tomcat y Jboss, experiencia con contenedores Docker y Kubernetes, manejo de herramientas DevOps como Azure Repos y Git, y familiaridad con herramientas de monitoreo como Dynatrace y ELK Stack. Experiencia trabajando con bases de datos Redis, DB2 y SQL Server, incluyendo optimización de consultas y mejora de performance en entornos de alta concurrencia. Experiencia implementando pruebas unitarias con JUnit y Mocks, conocimiento del ciclo de desarrollo seguro usando SonarQube y OAuth2.0, y aplicación práctica de metodologías ágiles en proyectos de desarrollo. Disponibilidad hibrida en Miraflores, LimaPORQUE EN ENTELGY TODO COMIENZA CONTIGOÚnicos, Reales, Auténticos, Diferentes……Somos 100% GENUINE.Nuestra cultura se vive en el día a día, somos como una gran familia y formamos Entelgy Family, donde podrás participar en diferentes actividades, eventos, retos y mucho más. También tenemos un conjunto de iniciativas orientadas a potenciar que tengas una vida sana y equilibrada, nuestro compromiso de contribuir a nuestra sociedad con iniciativas para el Cuidado del medio ambiente, Voluntariado comunitario, Sensibilización sobre personas vulnerables, etc. Health & Wellness, Responsabilidad Social, Programa para el Cuidado del Medio Ambiente.ASÍ ES COMO PONEMOS TODO NUESTRO TALENTO EN POTENCIAR EL TUYOVen para formar parte de nuestro equipo, y descubre que no es sólo lo que hacemos, sino cómo lo hacemos. ¡Atrévete a vivir una experiencia Genuine! Proyectos retadores para grandes clientes: Trabajarás en proyectos de gran relevancia para nuestros clientes, junto a un gran equipo de profesionales desde el primer día. Un progreso acelerado: Tu crecimiento estará garantizado y potenciado. Vamos contigo en lo que necesites.\n",
      "Múltiples vacantes\n",
      "Lima, Lima\n",
      "Híbrido\n",
      "Publicado ayer\n",
      "Analista Programador .NET | Visual Basic\n",
      "Entelgy\n",
      "2.0\n",
      "DÉJANOS CONTARTE LO QUE NOS HACE GENUINEBuscamos profesionales que quieran reinventarse cada día, que enfrentarse a los retos vaya en su ADN y que sientan pasión por trabajar con la tecnología. Esto nos hace únicos, diferentes y auténticos.¿QUÉ ESTAMOS BUSCANDO?Buscamos un Analista programador con sólidos conocimientos en tecnologías .NET, bases de datos y metodologías ágiles, con capacidad para trabajar en proyectos críticos del sector financiero.Funciones: Desarrollar aplicaciones .NET Core (2.0, 3.1, 5, 6) y Visual Basic para sistemas bancarios Diseñar y optimizar bases de datos Oracle/SQL Server y paquetes SSIS Implementar automatización de procesos con Control-M y scripting (PowerShell/Bash) Desarrollar interfaces web con HTML, CSS, JavaScript y frameworks modernos Gestionar control de versiones con Git/Bitbucket y flujos de trabajo colaborativos Aplicar metodologías ágiles (Scrum/Kanban) usando Jira para gestión de proyectosRequisitos: 4 años de experiencia en desarrollo de softwareLenguajes de Programación: Visual Basic 2005 y 2008 C# .NET Core 2.0, 3.1, .NET 5 y 6 Desarrollo Web: HTML, CSS, JavaScriptBases de Datos: Diseño y optimización de bases de datos SQL avanzado y manejo de Oracle SQL Server Integration Services (SSIS) - diseño, desarrollo y despliegueControl de Versiones: Git - branching, merging, pull requests Bitbucket para gestión de repositoriosMetodologías y Herramientas: Metodologías ágiles - Kanban, Scrum Jira para gestión de proyectos Control-M para automatización de jobs y AFT Scripting - PowerShell y Bash Disponibilidad para trabajo hibrido (San Isidro, Lima)PORQUE EN ENTELGY TODO COMIENZA CONTIGOÚnicos, Reales, Auténticos, Diferentes……Somos 100% GENUINE.Nuestra cultura se vive en el día a día, somos como una gran familia y formamos Entelgy Family, donde podrás participar en diferentes actividades, eventos, retos y mucho más. También tenemos un conjunto de iniciativas orientadas a potenciar que tengas una vida sana y equilibrada, nuestro compromiso de contribuir a nuestra sociedad con iniciativas para el Cuidado del medio ambiente, Voluntariado comunitario, Sensibilización sobre personas vulnerables, etc. Health & Wellness, Responsabilidad Social, Programa para el Cuidado del Medio Ambiente.ASÍ ES COMO PONEMOS TODO NUESTRO TALENTO EN POTENCIAR EL TUYOVen para formar parte de nuestro equipo, y descubre que no es sólo lo que hacemos, sino cómo lo hacemos. ¡Atrévete a vivir una experiencia Genuine! Proyectos retadores para grandes clientes: Trabajarás en proyectos de gran relevancia para nuestros clientes, junto a un gran equipo de profesionales desde el primer día. Un progreso acelerado: Tu crecimiento estará garantizado y potenciado. Vamos contigo en lo que necesites.\n",
      "Múltiples vacantes\n",
      "Lima, Lima\n",
      "Híbrido\n",
      "Publicado hace 3 días\n",
      "Analista Desarrollador Java\n",
      "ManpowerGroup Perú\n",
      "3.8\n",
      "En Experis Perú, nos encontramos en la búsqueda del mejor talento para sumarse a los desafíos de la transformación digital para importante empresa dedicada a la Administración de Fondos Colectivos.Por ello, te invitamos a formar parte del reto como: Analista Desarrollador JavaRequisitos para el puesto: Experiencia mínima 2 años en Oracle PL/SQL(indispensable) Experiencia 3 años en Java(JSP). Conocimiento de Html, Java Script, Jquery, Css, IDE Netbeans, Bootstrap - Indispensable VisualStudio - DeseableFunciones: Levantamiento de requerimientos documentada. Convertir las necesidades del negocio en productos de software. Implementar soluciones tecnológicas, aplicando las buenas prácticas en análisis, diseño y desarrollo de software. Gestionar los requerimientos asignados por el Jefe de Sistemas. Hacer seguimiento al desarrollo/pruebas/puesta en producción de la solución propuesta Gestionar la demanda de los requerimientos. Diseñar, codificar y probar que los módulos de los programas cumplen con las especificaciones de diseño. Revisión del listado de pruebas, ejecutar y documentar las pruebas necesarias para asegurar que una aplicación o entorno técnico cumple con los requisitos de rendimiento. Elaborar la documentación respectiva.Te ofrecemos: Ingreso directo a planilla completa con todos los beneficios de ley. Contrato a plazo indeterminado. Horario: Lunes a viernes: 8:30 a.m. a 6:00pm Sábado: 8:30 a 1:00pm en Lima Cercado Modalidad: Presencial EPSEn Experis Perú, promovemos la inclusión y equidad laboral, sin distinción por discapacidad, género, orientación sexual, identidad de género, edad o lugar de origen.¡Todos los talentos son bienvenidos!\n",
      "La Victoria, Lima\n",
      "Presencial\n",
      "Publicado hace 3 días\n",
      "Desarrollador Backend NodeJS / AWS\n",
      "INDRA PERU\n",
      "2.9\n",
      "Somos una empresa líder global de tecnología y consultoría digital que conecta personas, tecnología y negocios para generar crecimiento, transformación e impacto positivo y sostenible.Buscamos un Desarrolladores Backend NodeJS / AWS con ganas de trabajar en nuestros equipos multidisciplinares.Requisitos: Experiencia minima de 3 años a más como Backend. Experiencia minima de 3 años en Nodejs. Experiencia minima de 2 años en AWS con Lambda, CloudWatch, API Gateway, etc. Conocimiento y experiencia en TypeScript. Conocimiento y experiencia en Serverless.Condiciones de trabajo: Modalidad Híbrida (3 veces por semana en oficinas) en el distrito de San Isidro. Horario de trabajo de Lunes a Viernes de 9:00am a 6:30pm.Beneficios: Planilla Completa desde el 1er día de trabajo. Cobertura al 100% de EPS. Convenios Corporativos. Acceso ilimitado a cursos y certificaciones online en Udemy. Crecimiento y desarrollo profesional.¡Anímate y postula con nosotros!\n",
      "Múltiples vacantes\n",
      "San Isidro, Lima\n",
      "Híbrido\n",
      "Apto discapacidad\n",
      "Publicado hace 3 días\n",
      "ANALISTA DE PROGRAMADOR\n",
      "Derrama Magisterial\n",
      "3.0\n",
      "¡Buscamos un Analista Programador innovador y resolutivo! Si disfrutas transformar ideas en soluciones tecnológicas eficientes, crear aplicaciones robustas y garantizar que cada sistema funcione de manera óptima, esta es tu oportunidad. Únete a nuestro equipo para diseñar, desarrollar y mantener plataformas digitales que impacten directamente en la experiencia de nuestros usuarios y en la modernización de nuestra institución. Tu talento será clave para integrar front end y back end, optimizar procesos mediante automatización y aportar mejoras constantes que eleven el rendimiento de nuestros sistemas. ¡Sé parte del motor tecnológico que impulsa nuestro crecimiento!Responsabilidades: Analizar información para la toma de decisiones oportunas y el desarrollo de estrategias comerciales que generen el cumplimiento de las metas comerciales. Desarrollar el perfilamiento y/o segmentación de la cartera de clientes, así como identificar y proponer nuevos segmentos de clientes enfocados en oportunidades de negocio. Analizar información específica a medida, utilizando fuentes de información internas y externas, según requerimientos comerciales planteados por el jefe inmediato. Proporcionar la información necesaria para asegurar una correcta asignación de metas comerciales, un adecuado planeamiento de la capacidad comercial y un seguimiento constante a los esquemas de remuneración variable. Hacer seguimiento a los indicadores de gestión (KPIs) y reportes estratégicos a monitorear en las instancias establecidas, a fin de asegurar una adecuada gestión del performance, alineado a la estrategia de la Gerencia de Créditos. Realizar dentro de su competencia las demás funciones y atribuciones que establezcan las disposiciones normativas vigentes y/o las que le asigne su jefe inmediato.Requisitos Bachiller en Ingeniería Industrial, Ingeniería de Sistemas, Administración de Empresas, Estadística, Economía o afines. 3 años de experiencia en el desarrollo de interfaces de usuario. Conocimiento en PI / SQL Oracle, .Net C#, Angular 10 (o superior) y JavaScript y TypeScript (Indispensable) Se valora experiencia en programación orientada a objetos / Manejo de IDE's, trabajar con frameworks y experiencia con Rest Apis. Deseable con experiencia en el desarrollo de aplicaciones móviles (IOS y/o Android)\n",
      "Jesús María, Lima\n",
      "Presencial\n",
      "Publicado hace 3 días\n",
      "Desarrollador Full Stack (Java / AWS / React Native)\n",
      "Software Enterprise Services S.A.C.\n",
      "2.8\n",
      "SOFTWARE ENTERPRISE SERVICESSomos una empresa peruana de Tecnologías de la Información y Comunicaciones, que cuenta con amplia experiencia en la prestación de servicios informáticos mediante Outsourcing TI y Fábrica de Software, para clientes nacionales e internacionales, asegurando la calidad de servicio con sólidos procesos estandarizados en un sistema integrado de gestión. Nos encontramos en la búsqueda del mejor talento para ocupar la siguiente posiciónDesarrollador FullStack (Java / AWS / React Native)Requisitos:Requisitos: Bachiller o Titulado en Ingeniería de Sistemas, Informática, Software, Ciencias de la Computación o carreras afines. Experiencia mínima de 4 años en posiciones similares. Experiencia en desarrollo de microservicios en Java con Quarkus. Diseño e implementación de APIs REST y GraphQL. Experiencia en integración con servicios en la nube (AWS Lambda, EventBridge, AppSync, DynamoDB). Conocimientos de buenas prácticas en arquitectura, seguridad y calidad de código. Manejo de bases de datos PostgreSQL y MongoDB. Desarrollo de aplicaciones móviles con React Native y consumo de APIs. Experiencia en pruebas unitarias y control de versiones con Git.Competencias blandas: Comunicación asertiva Proactividad Trabajo en equipoBeneficios: Planilla completa. Trabajo Híbrido. EPS (Opcional). Oportunidad de línea de carrera.\n",
      "Múltiples vacantes\n",
      "Cercado De Lima, Lima\n",
      "Híbrido\n",
      "Apto discapacidad\n",
      "Publicado hace 3 días\n",
      "Programador BMS\n",
      "INDRA PERU\n",
      "2.9\n",
      "More digital. More human. More Minsait.Somos una empresa líder global de tecnología y consultoría digital que conecta personas, tecnología y negocios para generar crecimiento, transformación e impacto positivo y sostenible.Buscamos Programador BMS con ganas de trabajar en nuestros equipos multidisciplinares.¿Qué esperamos por tu parte? Experiencia mínima de 2 años en sistemas SCADA y/o BMS para control y monitorización de sistemas electromecánicos. Conocimientos en redes IP y experiencia en sistemas electromecánicos. Experiencia como programador/desarrollador en alguna de estas herramientas de Schneider Electric: PME (Power Monitoring Expert) PSO (Power SCADA Operation) EBO (EcoStruxure Building Operation)Deseable: Programación en otros SCADA/BMS. Experiencia con redes TCP/IP.Funciones: Programación y desarrollo de sistemas SCADA/BMS. Control y monitoreo de sistemas electromecánicos. Colaboración con ingenieros y técnicos en sala de control. Participación en proyectos de automatización de edificios e infraestructura eléctrica.Modalidad de Trabajo: 100 % Presencial en Lima, Perú.Beneficios: Planilla completa desde el primer día de trabajo. Cobertura al 100% de EPS. Convenios corporativos. Acceso a cursos y certificaciones online. Crecimiento y desarrollo profesional.Minsait, technology for a more human future! Nuestro compromiso es promover ambientes de trabajo en los que se trate con respeto y dignidad a las personas, procurando el desarrollo profesional de la plantilla y garantizando la igualdad de oportunidades en su selección, formación y promoción ofreciendo un entorno de trabajo libre de cualquier discriminación por motivo de género, edad, discapacidad, orientación sexual, identidad o expresión de género, religión, etnia, estado civil o cualquier otra circunstancia personal o social.\n",
      "Múltiples vacantes\n",
      "Lima, Lima\n",
      "Presencial\n",
      "Publicado hace 3 días\n",
      "Desarrollador FullStack (Lenguaje Go y React Native)\n",
      "Software Enterprise Services S.A.C.\n",
      "2.8\n",
      "SOFTWARE ENTERPRISE SERVICESSomos una empresa peruana de Tecnologías de la Información y Comunicaciones, que cuenta con amplia experiencia en la prestación de servicios informáticos mediante Outsourcing TI y Fábrica de Software, para clientes nacionales e internacionales, asegurando la calidad de servicio con sólidos procesos estandarizados en un sistema integrado de gestión. Nos encontramos en la búsqueda del mejor talento para ocupar la siguiente posiciónDesarrollador FullStak (Lenguaje Go y React Native)Requisitos: Bachiller/Título en Ingeniería en Sistemas, Informática, Software, Ciencias de la Computación o afines (Indispensable). Experiencia mínima de 3 años en posiciones similares (Indispensable). Experiencia en dominio del lenguaje Go, Modules (go.mod, go.sum), REACT Native-Expo 54 y Framework Fiber (Nivel avanzado-Indispensable). Manejo de servicios web y APIs RESTful, manejo de JSON, HTTP y dominio de protocolos HTTPS (Nivel avanzado – Indispensable). Programación concurrente (Nivel intermedio – Deseable). Manejo de Docker y Kubernetes para contenerización y orquestación de servicios (Nivel intermedio – Deseable). Experiencia en CI/CD, integración y despliegue continuo con GitLab (Nivel intermedio – Deseable). Conocimientos de Metodología Ágil Scrum (Nivel intermedio – Deseable).Competencias blandas: Comunicación asertiva Proactividad Trabajo en equipoBeneficios: Planilla completa. Trabajo Híbrido. EPS (Opcional). Oportunidad de línea de carrera.\n",
      "Múltiples vacantes\n",
      "Lima, Lima\n",
      "Híbrido\n",
      "Apto discapacidad\n",
      "Actualizado hace 1 hora\n",
      "Desarrollador Mobile React Native\n",
      "FRACTAL SOLUCIONES IT\n",
      "Alta revisión de perfiles\n",
      "San Isidro, Lima\n",
      "Híbrido\n",
      "Publicado hace 3 días\n",
      "Desarrollador FrontEnd Senior\n",
      "FRACTAL SOLUCIONES IT\n",
      "San Isidro, Lima\n",
      "Híbrido\n",
      "Publicado hace 3 días\n",
      "Desarrollador .NET Senior\n",
      "FRACTAL SOLUCIONES IT\n",
      "Lima, Lima\n",
      "Remoto\n",
      "Publicado hace 3 días\n",
      "Programador\n",
      "OLOGGI S.A.C\n",
      "Estamos en búsqueda de un Programador Full Stack para integrarse a nuestro equipo y participar en uno de nuestros próximos proyectos.Lo que buscamos de tiPrincipales responsabilidades: Implementar interfaces dinámicas y atractivas con JavaScript e integraciones con APIs REST. Construir y mantener el backend con Node.js y Express, incluyendo el manejo de colas y servicios en tiempo real mediante WebSockets. Diseñar, optimizar y mantener SQL Server, con experiencia en consultas complejas, triggers y stored procedures. Resolver problemas críticos en los procesos de despliegue y compilación para entornos web Mejorar el rendimiento de las aplicaciones mediante la optimización de consultas SQL de alta complejidad.Formación y experiencia Egresado de Ingeniería de Sistemas, Computación o afines. Experiencia mínima de 2 años en desarrollo de software.Beneficios Salario acorde del mercado Ingreso a planilla remype Oprtunidad de crecimiento. Excelete clima laboral.\n",
      "Postulación rápida\n",
      "Miraflores, Lima\n",
      "Presencial\n",
      "Actualizado hace 3 días\n",
      "Programador Full Stack c/ exp en IA\n",
      "Valtx\n",
      "En Valtx, empresa con 24 años de experiencia en el mercado peruano, cuyo objetivo principal es convertirse en un socio estratégico, mediante soluciones tecnológicas en los diversos aspectos de los procesos de negocios; el desarrollo, implementación y mantenimiento de aplicaciones e infraestructura tecnológica para el negocio; y consultoría en diversos procesos de transformación, nos encontramos en la búsqueda de un Programador Full Stack Desarrollar aplicaciones web y mobiles que cumplan buenas practicas de programación y desarrollo seguro (Indispensable) Elaborar documentación técnica resultante de la implementación de requerimientos Especificar, diseñar y mantener mecanismos para almacenar y acceder a datos. Garantizar la integración y despliegue continuo de los requerimientos implementados Implementar soluciones de IA para desarrollar features como chatbots, reconocimiento de imágenes o procesamiento de documentos.¿Qué requisitos necesito?- Egresado técnico o bachiller universitario en Ingeniería de Sistemas, Informática, Computación o carreras afines.- 3 años en integración y desarrollo de aplicaciones, con experiencia demostrable en la integración de al menos un tipo de feature de IA (chatbot, visión, NLP) en una aplicación web en producción. - 1 año de experiencia en proyectos del sector financiero (deseable)Conocimientos técnicos requeridos:1) Frontend: Dominio Obligatorio en React, NextJS, 2) Backend: Dominio Obligatorio en Java, Python (Deseable: Nodejs, Nestjs) 3) Bases de Datos: Conocimiento en MongoDB, Firebase, MySQL y SQL Server 4) Infraestructura y DevOps: Manejo de pipelines CI/CD (GitHub Actions, Jenkins, etc.). Conocimiento en contenedores (Docker, Kubernetes).5) Herramientas de IA: APIs de Cloud: OpenAI API, Google Gemini, Azure AI Services, AWS Bedrock/AI Services. Frameworks de integración: LangChain, LlamaIndex. Bibliotecas de ML: Hugging Face transformers, TensorFlow Lite, PyTorch (para inferencia)Deseable:Conocimiento de estándares de seguridad (OWASP). Manejo de herramientas DevOps (Docker, Kubernetes, Jenkins) para automatización de despliegues.Disponibilidad para trabajar bajo modalidad presencial de L-V en San Borja¿Por qué Valtx?Porque creemos que el talento se potencia con propósito. En Valtx no solo desarrollamos tecnología, transformamos negocios y acompañamos a nuestros colaboradores en su desarrollo profesional, promoviendo una cultura colaborativa, cercana y orientada a la excelencia.¿Estás listo para construir soluciones que marcan la diferencia?Postula hoy y forma parte de un equipo que evoluciona contigo.\n",
      "San Borja, Lima\n",
      "Presencial\n",
      "Apto discapacidad\n",
      "Actualizado hace 1 hora\n",
      "Programador BMS - Automizador\n",
      "INDRA PERU\n",
      "2.9\n",
      "Alta revisión de perfiles\n",
      "More digital. More human. More Minsait.Somos una empresa líder global de tecnología y consultoría digital que conecta personas, tecnología y negocios para generar crecimiento, transformación e impacto positivo y sostenible.Buscamos Programador BMS con ganas de trabajar en nuestros equipos multidisciplinares.¿Qué esperamos por tu parte? Experiencia mínima de 2 años en sistemas SCADA y/o BMS para control y monitorización de sistemas electromecánicos. Conocimientos en redes IP y experiencia en sistemas electromecánicos. Experiencia como programador/desarrollador en alguna de estas herramientas de Schneider Electric: PME (Power Monitoring Expert) PSO (Power SCADA Operation) EBO (EcoStruxure Building Operation)Deseable: Programación en otros SCADA/BMS. Experiencia con redes TCP/IP.Funciones: Programación y desarrollo de sistemas SCADA/BMS. Control y monitoreo de sistemas electromecánicos. Colaboración con ingenieros y técnicos en sala de control. Participación en proyectos de automatización de edificios e infraestructura eléctrica.Modalidad de Trabajo: 100 % Presencial en Lima, Perú.Beneficios: Planilla completa desde el primer día de trabajo. Cobertura al 100% de EPS. Convenios corporativos. Acceso a cursos y certificaciones online. Crecimiento y desarrollo profesional.Minsait, technology for a more human future! Nuestro compromiso es promover ambientes de trabajo en los que se trate con respeto y dignidad a las personas, procurando el desarrollo profesional de la plantilla y garantizando la igualdad de oportunidades en su selección, formación y promoción ofreciendo un entorno de trabajo libre de cualquier discriminación por motivo de género, edad, discapacidad, orientación sexual, identidad o expresión de género, religión, etnia, estado civil o cualquier otra circunstancia personal o social.\n",
      "Múltiples vacantes\n",
      "Lima, Lima\n",
      "Presencial\n",
      "Actualizado hace 3 días\n",
      "Programador BMS\n",
      "INDRA PERU\n",
      "2.9\n",
      "More digital. More human. More Minsait.Somos una empresa líder global de tecnología y consultoría digital que conecta personas, tecnología y negocios para generar crecimiento, transformación e impacto positivo y sostenible.Buscamos Programador BMS con ganas de trabajar en nuestros equipos multidisciplinares.¿Qué esperamos por tu parte? Experiencia mínima de 2 años en sistemas SCADA y/o BMS para control y monitorización de sistemas electromecánicos. Conocimientos en redes IP y experiencia en sistemas electromecánicos. Experiencia como programador/desarrollador en alguna de estas herramientas de Schneider Electric: PME (Power Monitoring Expert) PSO (Power SCADA Operation) EBO (EcoStruxure Building Operation)Deseable: Programación en otros SCADA/BMS. Experiencia con redes TCP/IP.Funciones: Programación y desarrollo de sistemas SCADA/BMS. Control y monitoreo de sistemas electromecánicos. Colaboración con ingenieros y técnicos en sala de control. Participación en proyectos de automatización de edificios e infraestructura eléctrica.Modalidad de Trabajo: 100 % Presencial en Lima, Perú.Beneficios: Planilla completa desde el primer día de trabajo. Cobertura al 100% de EPS. Convenios corporativos. Acceso a cursos y certificaciones online. Crecimiento y desarrollo profesional.Minsait, technology for a more human future! Nuestro compromiso es promover ambientes de trabajo en los que se trate con respeto y dignidad a las personas, procurando el desarrollo profesional de la plantilla y garantizando la igualdad de oportunidades en su selección, formación y promoción ofreciendo un entorno de trabajo libre de cualquier discriminación por motivo de género, edad, discapacidad, orientación sexual, identidad o expresión de género, religión, etnia, estado civil o cualquier otra circunstancia personal o social.\n",
      "Múltiples vacantes\n",
      "Lima, Lima\n",
      "Presencial\n",
      "1\n",
      "2\n",
      "3\n",
      "4\n",
      "5\n"
     ]
    }
   ],
   "source": [
    "for button in red_buttons:\n",
    "        print(button.text)"
   ]
  }
 ],
 "metadata": {
  "kernelspec": {
   "display_name": "selenium_clase",
   "language": "python",
   "name": "python3"
  },
  "language_info": {
   "codemirror_mode": {
    "name": "ipython",
    "version": 3
   },
   "file_extension": ".py",
   "mimetype": "text/x-python",
   "name": "python",
   "nbconvert_exporter": "python",
   "pygments_lexer": "ipython3",
   "version": "3.11.13"
  }
 },
 "nbformat": 4,
 "nbformat_minor": 5
}
