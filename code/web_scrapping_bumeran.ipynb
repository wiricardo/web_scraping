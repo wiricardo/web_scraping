{
 "cells": [
  {
   "cell_type": "markdown",
   "id": "d39943a0",
   "metadata": {},
   "source": [
    "# 1. Calling Libraries"
   ]
  },
  {
   "cell_type": "code",
   "execution_count": 2,
   "id": "fa2cbef4",
   "metadata": {},
   "outputs": [],
   "source": [
    "from selenium import webdriver\n",
    "import re\n",
    "import time \n",
    "from selenium.webdriver.common.by import By\n",
    "from selenium.webdriver.support import expected_conditions as EC\n",
    "from selenium.webdriver.support.ui import WebDriverWait\n",
    "from selenium.webdriver.common.keys import Keys\n",
    "import pandas as pd"
   ]
  },
  {
   "cell_type": "markdown",
   "id": "af414df4",
   "metadata": {},
   "source": [
    "# 2. Setting the Driver"
   ]
  },
  {
   "cell_type": "code",
   "execution_count": 3,
   "id": "a72a07bf",
   "metadata": {},
   "outputs": [],
   "source": [
    "driver = webdriver.Chrome()\n",
    "url = \"https://www.bumeran.com.pe/empleos.html\"\n",
    "driver.get(url)\n",
    "time.sleep(3)\n",
    "driver.maximize_window()"
   ]
  },
  {
   "cell_type": "markdown",
   "id": "e660c4f2",
   "metadata": {},
   "source": [
    "# 3. Setting filters"
   ]
  },
  {
   "cell_type": "markdown",
   "id": "39e75e5e",
   "metadata": {},
   "source": [
    "### Date filter"
   ]
  },
  {
   "cell_type": "code",
   "execution_count": 389,
   "id": "a1acaa73",
   "metadata": {},
   "outputs": [],
   "source": [
    "\n",
    "date = driver.find_element(By.XPATH, '/html/body/div[1]/div/div[2]/div[1]/div/div[2]/div[1]/div[2]/div/div[1]/button[1]')\n",
    "date.click()\n",
    "\n",
    "time.sleep(1)\n",
    "\n",
    "date_1 = driver.find_element(By.XPATH, '/html/body/div[1]/div/div[2]/div[1]/div/div[2]/div[1]/div[2]/div/div[2]/div/div/button[8]')\n",
    "date_1.click()"
   ]
  },
  {
   "cell_type": "markdown",
   "id": "83f9d681",
   "metadata": {},
   "source": [
    "### Area filter"
   ]
  },
  {
   "cell_type": "code",
   "execution_count": 390,
   "id": "83eea2fb",
   "metadata": {},
   "outputs": [],
   "source": [
    "area = driver.find_element( By.XPATH, '/html/body/div[1]/div/div[2]/div[1]/div/div[2]/div[1]/div[2]/div/div[1]/button[1]' )\n",
    "area.click()\n",
    "\n",
    "time.sleep(1)\n",
    "\n",
    "area_1 = driver.find_element( By.XPATH, '/html/body/div[1]/div/div[2]/div[1]/div/div[2]/div[1]/div[2]/div/div[2]/div/div/button[3]' )\n",
    "area_1.click()"
   ]
  },
  {
   "cell_type": "markdown",
   "id": "441a2e2f",
   "metadata": {},
   "source": [
    "### Sub area filter"
   ]
  },
  {
   "cell_type": "code",
   "execution_count": 391,
   "id": "69ea2713",
   "metadata": {},
   "outputs": [],
   "source": [
    "time.sleep(1)\n",
    "sub_area = driver.find_element ( By.XPATH, '/html/body/div[1]/div/div[2]/div[1]/div/div[2]/div[1]/div[2]/div/div[1]/button[1]' )\n",
    "sub_area.click()\n",
    "\n",
    "time.sleep(1)\n",
    "\n",
    "sub_area_1 = driver.find_element ( By.XPATH, '/html/body/div[1]/div/div[2]/div[1]/div/div[2]/div[1]/div[2]/div/div[2]/div/div/button[2]' )\n",
    "sub_area_1.click()"
   ]
  },
  {
   "cell_type": "markdown",
   "id": "d74d7b46",
   "metadata": {},
   "source": [
    "### Region"
   ]
  },
  {
   "cell_type": "code",
   "execution_count": 392,
   "id": "1dba7235",
   "metadata": {},
   "outputs": [],
   "source": [
    "time.sleep(1)\n",
    "region = driver.find_element ( By.XPATH, '/html/body/div[1]/div/div[2]/div[1]/div/div[2]/div[1]/div[2]/div/div[1]/button[1]/div' )\n",
    "region.click()\n",
    "\n",
    "time.sleep(1)\n",
    "\n",
    "region_1 = driver.find_element ( By.XPATH, '/html/body/div[1]/div/div[2]/div[1]/div/div[2]/div[1]/div[2]/div/div[2]/div/div/button[1]' )\n",
    "region_1.click()"
   ]
  },
  {
   "cell_type": "markdown",
   "id": "cecd7039",
   "metadata": {},
   "source": [
    "### Work schedule"
   ]
  },
  {
   "cell_type": "code",
   "execution_count": 393,
   "id": "eb7fdd39",
   "metadata": {},
   "outputs": [],
   "source": [
    "time.sleep(1)\n",
    "ws = driver.find_element ( By.XPATH, '/html/body/div[1]/div/div[2]/div[1]/div/div[2]/div[1]/div[2]/div/div[1]/button[4]/div')\n",
    "ws.click()\n",
    "\n",
    "time.sleep(1)\n",
    "\n",
    "ws_1 = driver.find_element ( By.XPATH, '/html/body/div[1]/div/div[2]/div[1]/div/div[2]/div[1]/div[2]/div/div[2]/div/div/button[1]' )\n",
    "ws_1.click()\n"
   ]
  },
  {
   "cell_type": "markdown",
   "id": "252e6aa9",
   "metadata": {},
   "source": [
    "# 4. Scrapping"
   ]
  },
  {
   "cell_type": "markdown",
   "id": "f8eb096b",
   "metadata": {},
   "source": [
    "### Stage_1: Getting Url's"
   ]
  },
  {
   "cell_type": "code",
   "execution_count": 394,
   "id": "c2655244",
   "metadata": {},
   "outputs": [
    {
     "data": {
      "text/plain": [
       "[<selenium.webdriver.remote.webelement.WebElement (session=\"3b8fda3cedd963c9b29b42eb4f7a75d5\", element=\"f.97E0FD606065053BD64CB1648FA2A962.d.B7A7A5BCAF07BCC77F86DD3A4A71C304.e.159\")>,\n",
       " <selenium.webdriver.remote.webelement.WebElement (session=\"3b8fda3cedd963c9b29b42eb4f7a75d5\", element=\"f.97E0FD606065053BD64CB1648FA2A962.d.B7A7A5BCAF07BCC77F86DD3A4A71C304.e.160\")>,\n",
       " <selenium.webdriver.remote.webelement.WebElement (session=\"3b8fda3cedd963c9b29b42eb4f7a75d5\", element=\"f.97E0FD606065053BD64CB1648FA2A962.d.B7A7A5BCAF07BCC77F86DD3A4A71C304.e.161\")>,\n",
       " <selenium.webdriver.remote.webelement.WebElement (session=\"3b8fda3cedd963c9b29b42eb4f7a75d5\", element=\"f.97E0FD606065053BD64CB1648FA2A962.d.B7A7A5BCAF07BCC77F86DD3A4A71C304.e.162\")>,\n",
       " <selenium.webdriver.remote.webelement.WebElement (session=\"3b8fda3cedd963c9b29b42eb4f7a75d5\", element=\"f.97E0FD606065053BD64CB1648FA2A962.d.B7A7A5BCAF07BCC77F86DD3A4A71C304.e.163\")>]"
      ]
     },
     "execution_count": 394,
     "metadata": {},
     "output_type": "execute_result"
    }
   ],
   "source": [
    "time.sleep(1)\n",
    "job_pages = driver.find_elements(By.CSS_SELECTOR, \"a.sc-dHaUqb\")\n",
    "\n",
    "job_pages\n"
   ]
  },
  {
   "cell_type": "code",
   "execution_count": 395,
   "id": "d58ddfa9",
   "metadata": {},
   "outputs": [],
   "source": [
    "time.sleep(1)\n",
    "urls_pages = [a.get_attribute(\"href\") for a in job_pages if a.get_attribute(\"href\")]"
   ]
  },
  {
   "cell_type": "code",
   "execution_count": 396,
   "id": "e21e8d02",
   "metadata": {},
   "outputs": [
    {
     "name": "stdout",
     "output_type": "stream",
     "text": [
      "https://www.bumeran.com.pe/en-lima/empleos-area-tecnologia-sistemas-y-telecomunicaciones-subarea-programacion-full-time-publicacion-menor-a-15-dias.html\n",
      "https://www.bumeran.com.pe/en-lima/empleos-area-tecnologia-sistemas-y-telecomunicaciones-subarea-programacion-full-time-publicacion-menor-a-15-dias.html?page=2\n",
      "https://www.bumeran.com.pe/en-lima/empleos-area-tecnologia-sistemas-y-telecomunicaciones-subarea-programacion-full-time-publicacion-menor-a-15-dias.html?page=3\n",
      "https://www.bumeran.com.pe/en-lima/empleos-area-tecnologia-sistemas-y-telecomunicaciones-subarea-programacion-full-time-publicacion-menor-a-15-dias.html?page=4\n",
      "https://www.bumeran.com.pe/en-lima/empleos-area-tecnologia-sistemas-y-telecomunicaciones-subarea-programacion-full-time-publicacion-menor-a-15-dias.html?page=5\n"
     ]
    }
   ],
   "source": [
    "for page in urls_pages:\n",
    "    print(page)"
   ]
  },
  {
   "cell_type": "code",
   "execution_count": 397,
   "id": "22123df4",
   "metadata": {},
   "outputs": [
    {
     "name": "stdout",
     "output_type": "stream",
     "text": [
      "Total job ads: 97\n",
      "https://www.bumeran.com.pe/empleos/software-engineer-senior-grupo-gloria-1117976663.html\n",
      "https://www.bumeran.com.pe/empleos/programador-frontend-senior-sonda-del-peru-s.a.-1117973000.html\n",
      "https://www.bumeran.com.pe/empleos/analista-programador-java-1117972678.html\n",
      "https://www.bumeran.com.pe/empleos/trainee-programador-jr-building-software-1117968407.html\n",
      "https://www.bumeran.com.pe/empleos/analista-programador-sede-ate-bumeran-selecta-1117969140.html\n",
      "https://www.bumeran.com.pe/empleos/desarrollador-full-stack-node.js-c-java-angularjs-ibr-peru-s.a.-1117967655.html\n",
      "https://www.bumeran.com.pe/empleos/analista-programador-php-canvia-1117976775.html\n",
      "https://www.bumeran.com.pe/empleos/desarrolladora-mineria-lurin-zamine-peru-1117976772.html\n",
      "https://www.bumeran.com.pe/empleos/desarrollador-fullstack-1117976482.html\n",
      "https://www.bumeran.com.pe/empleos/analista-de-programacion-caja-metropolitana-de-lima-1117975863.html\n",
      "https://www.bumeran.com.pe/empleos/programador-bms-o-scada-indra-peru-1117975855.html\n",
      "https://www.bumeran.com.pe/empleos/analista-desarrollador-full-stack-gruporpp-s.a.c.-1117968336.html\n",
      "https://www.bumeran.com.pe/empleos/analista-programador-java-entelgy-1117975157.html\n",
      "https://www.bumeran.com.pe/empleos/analista-programador-.net-%7C-visual-basic-entelgy-1117975151.html\n",
      "https://www.bumeran.com.pe/empleos/analista-desarrollador-java-manpowergroup-peru-1117974662.html\n",
      "https://www.bumeran.com.pe/empleos/desarrollador-backend-nodejs-aws-indra-peru-1117974651.html\n",
      "https://www.bumeran.com.pe/empleos/analista-de-programador-derrama-magisterial-1117974631.html\n",
      "https://www.bumeran.com.pe/empleos/desarrollador-full-stack-java-aws-react-native-software-enterprise-services-s.a.c.-1117974521.html\n",
      "https://www.bumeran.com.pe/empleos/programador-bms-indra-peru-1117974062.html\n",
      "https://www.bumeran.com.pe/empleos/desarrollador-fullstack-lenguaje-go-y-react-native-software-enterprise-services-s.a.c.-1117949402.html\n",
      "https://www.bumeran.com.pe/empleos/desarrollador-mobile-react-native-fractal-soluciones-it-1117974334.html\n",
      "https://www.bumeran.com.pe/empleos/desarrollador-frontend-senior-fractal-soluciones-it-1117974205.html\n",
      "https://www.bumeran.com.pe/empleos/desarrollador-.net-senior-fractal-soluciones-it-1117973977.html\n",
      "https://www.bumeran.com.pe/empleos/programador-ologgi-s.a.c-1117973857.html\n",
      "https://www.bumeran.com.pe/empleos/programador-full-stack-c-exp-en-ia-valtx-1117973381.html\n",
      "https://www.bumeran.com.pe/empleos/programador-bms-automizador-indra-peru-1117973373.html\n",
      "https://www.bumeran.com.pe/empleos/programador-bms-indra-peru-1117973363.html\n",
      "https://www.bumeran.com.pe/empleos/analista-programador-sector-educativo-inlearning-escuelas-de-educacion-superior-1117973244.html\n",
      "https://www.bumeran.com.pe/empleos/programador-bms-indra-peru-1117973221.html\n",
      "https://www.bumeran.com.pe/empleos/tecnico-desarrollador-de-sistemas-1117973188.html\n",
      "https://www.bumeran.com.pe/empleos/analista-programador-senior-adex-1117972522.html\n",
      "https://www.bumeran.com.pe/empleos/programador-en-oracle-developer-clbs-1117972036.html\n",
      "https://www.bumeran.com.pe/empleos/analista-programador-java-remoto-planilla-completa-green-solutions-1117971817.html\n",
      "https://www.bumeran.com.pe/empleos/fullstack-developer-senior-.net-angular-zutun.-1117971550.html\n",
      "https://www.bumeran.com.pe/empleos/analista-programador-java-cloud-senior-green-solutions-1117971404.html\n",
      "https://www.bumeran.com.pe/empleos/desarrollador-backend-.net-indra-peru-1117971369.html\n",
      "https://www.bumeran.com.pe/empleos/analista-programador-de-ti-seaboard-overseas-peru-s.a.-1117970924.html\n",
      "https://www.bumeran.com.pe/empleos/analista-programador-postgre-oracle-hibrido-green-solutions-1117970409.html\n",
      "https://www.bumeran.com.pe/empleos/desarrollador-backend-javascript-senior-remoto-csti-corp-1117970346.html\n",
      "https://www.bumeran.com.pe/empleos/programador-python-junior-csti-corp-1117970174.html\n",
      "https://www.bumeran.com.pe/empleos/.net-developer-junior-inetum-peru-1117970031.html\n",
      "https://www.bumeran.com.pe/empleos/frontend-developer-react-js-ts-zutun.-1117969630.html\n",
      "https://www.bumeran.com.pe/empleos/mid-node-aws-engineer-encora-1117969139.html\n",
      "https://www.bumeran.com.pe/empleos/analista-de-programacion-rpg-izipay-1117080379.html\n",
      "https://www.bumeran.com.pe/empleos/desarrollador-backend-indra-peru-1117968754.html\n",
      "https://www.bumeran.com.pe/empleos/programador-rpa-rocketbot-uipath-valtx-1117968630.html\n",
      "https://www.bumeran.com.pe/empleos/soporte-jr-y-sr-de-plataforma-bmc-helix-remedy-hitss-peru-1117968539.html\n",
      "https://www.bumeran.com.pe/empleos/desarrollador-backend-inetum-peru-1117968206.html\n",
      "https://www.bumeran.com.pe/empleos/desarrollador-fullstack-java-hitss-peru-1117967606.html\n",
      "https://www.bumeran.com.pe/empleos/programador-abap-preencial-experis-peru-1117966739.html\n",
      "https://www.bumeran.com.pe/empleos/desarrollador-fullstack-java-js-remoto-protiviti-peru-1117966558.html\n",
      "https://www.bumeran.com.pe/empleos/analista-programador-clinica-vesalio-s.a.-1117966201.html\n",
      "https://www.bumeran.com.pe/empleos/backend-java-sector-bancario-experis-peru-1117965923.html\n",
      "https://www.bumeran.com.pe/empleos/desarrollador-frontend-react-por-proyecto-indra-peru-1117965904.html\n",
      "https://www.bumeran.com.pe/empleos/desarrollador-full-stack-senior--ecommerce-magento-perfumerias-unidas-1117965886.html\n",
      "https://www.bumeran.com.pe/empleos/desarrollador-genexus-software-enterprise-services-s.a.c.-1117965079.html\n",
      "https://www.bumeran.com.pe/empleos/analista-senior-de-automatizaciones-e-inteligencia-artificial-hibrido-cibergestion-peru-1117964801.html\n",
      "https://www.bumeran.com.pe/empleos/analista-programador-vb6-real-systems-s-a-1117886662.html\n",
      "https://www.bumeran.com.pe/empleos/desarrollador-backend-manpowergroup-peru-1117964291.html\n",
      "https://www.bumeran.com.pe/empleos/desarrollador-full-stack-.net-ibr-peru-s.a.-1117964229.html\n",
      "https://www.bumeran.com.pe/empleos/desarrollador-frontend-senior-canvia-1117964197.html\n",
      "https://www.bumeran.com.pe/empleos/analista-programador-1117964091.html\n",
      "https://www.bumeran.com.pe/empleos/backend-developer-senior-culqi-talent2win-1117963319.html\n",
      "https://www.bumeran.com.pe/empleos/analista-programador-universidad-de-san-martin-de-porres-1117963157.html\n",
      "https://www.bumeran.com.pe/empleos/analista-programador-java-oracle-presencial-hitss-peru-1117963095.html\n",
      "https://www.bumeran.com.pe/empleos/soporte-jr-de-aplicaciones-linux-plsql-hitss-peru-1117963093.html\n",
      "https://www.bumeran.com.pe/empleos/analista-programador-java-valtx-1117962716.html\n",
      "https://www.bumeran.com.pe/empleos/analista-programador-postgre-oracle-hibrido-green-solutions-1117962598.html\n",
      "https://www.bumeran.com.pe/empleos/frontend-developer-angular-experis-peru-1117962336.html\n",
      "https://www.bumeran.com.pe/empleos/desarrollador-frontend-senior-remoto-csti-corp-1117962091.html\n",
      "https://www.bumeran.com.pe/empleos/desarrollador-backend-java-inetum-peru-1117961759.html\n",
      "https://www.bumeran.com.pe/empleos/desarrollador-fullstack-semiseniorjava-angular-csti-corp-1117961713.html\n",
      "https://www.bumeran.com.pe/empleos/analista-programador-full-stack-universidad-de-ingenieria-y-tecnologia-utec-1117961694.html\n",
      "https://www.bumeran.com.pe/empleos/desarrollador-.net-php-indra-peru-1117961552.html\n",
      "https://www.bumeran.com.pe/empleos/desarrollador-python-odoo-ibr-peru-s.a.-1117961539.html\n",
      "https://www.bumeran.com.pe/empleos/desarrollador-backend-javascript-senior-csti-corp-1117961392.html\n",
      "https://www.bumeran.com.pe/empleos/desarrollador-fullsatck-enfoque-en-frontend-fractal-soluciones-it-1117962666.html\n",
      "https://www.bumeran.com.pe/empleos/consultor-sap-btp-proyecto-de-4-meses-remoto-protiviti-peru-1117961136.html\n",
      "https://www.bumeran.com.pe/empleos/practicante-de-digitalizacion-repsol-1117960947.html\n",
      "https://www.bumeran.com.pe/empleos/analista-programador-java-microservicios-canvia-1117960644.html\n",
      "https://www.bumeran.com.pe/empleos/programador-1117960615.html\n",
      "https://www.bumeran.com.pe/empleos/analista-programador-frontend-angular-canvia-1117960612.html\n",
      "https://www.bumeran.com.pe/empleos/practicante-profesional-programacion-plsql-indra-peru-1117960022.html\n",
      "https://www.bumeran.com.pe/empleos/tech-lead-lider-tecnico-frontend-react-nextjs-zutun.-1117959935.html\n",
      "https://www.bumeran.com.pe/empleos/practicante-profesional-desarrollador-pl-sql-indra-peru-1117941356.html\n",
      "https://www.bumeran.com.pe/empleos/desarrollador-web-marketing-sector-laboratorio-experis-peru-1117959454.html\n",
      "https://www.bumeran.com.pe/empleos/programador-web-y-movil-manpowergroup-peru-1117958854.html\n",
      "https://www.bumeran.com.pe/empleos/analista-programador-.net-gs-gestion-y-sistemas-sac-1117958392.html\n",
      "https://www.bumeran.com.pe/empleos/analista-programador-java-gs-gestion-y-sistemas-sac-1117958329.html\n",
      "https://www.bumeran.com.pe/empleos/programador-java-senior-semipresencial-manpowergroup-peru-1117958222.html\n",
      "https://www.bumeran.com.pe/empleos/desarrollador-backend-jr-prestamype-1117957891.html\n",
      "https://www.bumeran.com.pe/empleos/desarrollador-full-stack-grupo-red-salud-1117971064.html\n",
      "https://www.bumeran.com.pe/empleos/programador-de-inteligencia-artificial-growth-digital-lab-1117968752.html\n",
      "https://www.bumeran.com.pe/empleos/desarrollador-de-sistemas-intelitech-peru-s.a.c.-1117964390.html\n",
      "https://www.bumeran.com.pe/empleos/desarrollador-full-stack-igts-sac-1117965145.html\n",
      "https://www.bumeran.com.pe/empleos/analista-programador-fullstack-isp-consulting-1117960954.html\n",
      "https://www.bumeran.com.pe/empleos/programador-de-sistemas-impresiones-plasticas-sac-1117952999.html\n"
     ]
    }
   ],
   "source": [
    "\n",
    "all_urls = []\n",
    "\n",
    "for page in urls_pages:\n",
    "    driver.get(page)\n",
    "    try:\n",
    "        job_links = WebDriverWait(driver, 10).until(\n",
    "            EC.presence_of_all_elements_located((By.CSS_SELECTOR, \"#listado-avisos a[href*='/empleos/']\"))\n",
    "        )\n",
    "        page_urls = [link.get_attribute(\"href\") for link in job_links]\n",
    "        all_urls.extend(page_urls)\n",
    "    except:\n",
    "        print(\"No job ads found:\", page)\n",
    "\n",
    "print(\"Total job ads:\", len(all_urls))\n",
    "for u in all_urls:\n",
    "    print(u)\n"
   ]
  },
  {
   "cell_type": "markdown",
   "id": "cb1ff9e7",
   "metadata": {},
   "source": [
    "### Stage_2: Scrapping Job details"
   ]
  },
  {
   "cell_type": "code",
   "execution_count": null,
   "id": "37cd5cac",
   "metadata": {},
   "outputs": [
    {
     "name": "stdout",
     "output_type": "stream",
     "text": [
      "CSV listo con 97 registros en ../output/jobs.csv\n"
     ]
    }
   ],
   "source": [
    "rows = []\n",
    "\n",
    "for u in all_urls:\n",
    "    driver.get(u)\n",
    "\n",
    "    # Job Title\n",
    "    try:\n",
    "        job_ti = WebDriverWait(driver, 10).until(\n",
    "            EC.presence_of_all_elements_located((By.ID, \"header-component\"))\n",
    "        )\n",
    "        job_title = [link.find_element(By.TAG_NAME, \"h1\").text for link in job_ti][0]\n",
    "    except:\n",
    "        job_title = \"\"\n",
    "\n",
    "    # Description\n",
    "    try:\n",
    "        job_des = WebDriverWait(driver, 10).until(\n",
    "            EC.presence_of_all_elements_located((By.CSS_SELECTOR, \"div.sc-jnREuW.jGrqaH\"))\n",
    "        )\n",
    "        job_description = \" \".join(\n",
    "            [desc.find_element(By.TAG_NAME, \"p\").text for desc in job_des]\n",
    "        )\n",
    "    except:\n",
    "        job_description = \"\"\n",
    "\n",
    "    # District\n",
    "    try:\n",
    "        job_dis = WebDriverWait(driver, 10).until(\n",
    "            EC.presence_of_all_elements_located(\n",
    "                (By.CSS_SELECTOR, \"li.sc-bGXeph.dOLtOt h2\")\n",
    "            )\n",
    "        )\n",
    "        job_district = job_dis[0].text if job_dis else \"\"\n",
    "    except:\n",
    "        job_district = \"\"\n",
    "\n",
    "    # Work Mode\n",
    "    try:\n",
    "        job_mod = WebDriverWait(driver, 10).until(\n",
    "            EC.presence_of_all_elements_located(\n",
    "                (By.CSS_SELECTOR, \"li.sc-bGXeph.dOLtOt p\")\n",
    "            )\n",
    "        )\n",
    "        job_mode = job_mod[0].text if job_mod else \"\"\n",
    "    except:\n",
    "        job_mode = \"\"\n",
    "\n",
    "    rows.append({\n",
    "        \"Job Title\": job_title,\n",
    "        \"Description\": job_description,\n",
    "        \"District\": job_district,\n",
    "        \"Work Mode\": job_mode\n",
    "    })\n",
    "\n",
    "\n",
    "output_path = \"../output/jobs.csv\"\n",
    "df = pd.DataFrame(rows)\n",
    "df.to_csv(output_path, index=False, encoding=\"utf-8\")\n",
    "\n",
    "driver.quit()\n",
    "print(f\"CSV saved with {len(df)} records at {output_path}\")"
   ]
  }
 ],
 "metadata": {
  "kernelspec": {
   "display_name": "selenium_clase",
   "language": "python",
   "name": "python3"
  },
  "language_info": {
   "codemirror_mode": {
    "name": "ipython",
    "version": 3
   },
   "file_extension": ".py",
   "mimetype": "text/x-python",
   "name": "python",
   "nbconvert_exporter": "python",
   "pygments_lexer": "ipython3",
   "version": "3.11.13"
  }
 },
 "nbformat": 4,
 "nbformat_minor": 5
}
